{
  "cells": [
    {
      "cell_type": "markdown",
      "metadata": {
        "id": "x7Tfl1JzwoGR"
      },
      "source": [
        "파이썬의 간단한 사용방법부터 시작하겠습니다.  "
      ]
    },
    {
      "cell_type": "markdown",
      "metadata": {
        "id": "ds_A51pBwoGT"
      },
      "source": [
        "# 1. 변수 설정 및 연산"
      ]
    },
    {
      "cell_type": "code",
      "execution_count": null,
      "metadata": {
        "colab": {
          "base_uri": "https://localhost:8080/",
          "height": 144
        },
        "id": "teVKn6w8woGT",
        "outputId": "6d104cb3-4e85-4d8b-a06c-36123aad885a"
      },
      "outputs": [
        {
          "output_type": "error",
          "ename": "SyntaxError",
          "evalue": "invalid decimal literal (<ipython-input-1-957e8da18ea5>, line 9)",
          "traceback": [
            "\u001b[0;36m  File \u001b[0;32m\"<ipython-input-1-957e8da18ea5>\"\u001b[0;36m, line \u001b[0;32m9\u001b[0m\n\u001b[0;31m    1_x = 3 # 해당 코드는 에러가 발생합니다.\u001b[0m\n\u001b[0m     ^\u001b[0m\n\u001b[0;31mSyntaxError\u001b[0m\u001b[0;31m:\u001b[0m invalid decimal literal\n"
          ]
        }
      ],
      "source": [
        "# 1. 변수는 \"=\" 표시를 사용합니다.\n",
        "# 2. 변수명은 영문자, 숫자, _로 구성합니다. 이때, 숫자로 시작할 수 없습니다.\n",
        "# 3. 변수명은 대소문자를 구분합니다.\n",
        "\n",
        "x = 3\n",
        "X = 4\n",
        "_x = 5\n",
        "print(f\"x = {x}, X = {X}, _x = {_x}\")\n",
        "1_x = 3 # 해당 코드는 에러가 발생합니다."
      ]
    },
    {
      "cell_type": "code",
      "execution_count": null,
      "metadata": {
        "colab": {
          "base_uri": "https://localhost:8080/"
        },
        "id": "PWRXh4PtwoGV",
        "outputId": "0f74ea8d-2066-4892-eff9-c98bdc72f9b6"
      },
      "outputs": [
        {
          "output_type": "stream",
          "name": "stdout",
          "text": [
            "x + y = 7\n",
            "x - y = -1\n",
            "x * y = 12\n",
            "x / y = 0.75\n",
            "x // y = 0\n",
            "x % y = 3\n"
          ]
        }
      ],
      "source": [
        "# 가장 자주 사용하게 되는 변수 형태는 숫자와 문자입니다.\n",
        "## 숫자형 변수\n",
        "x = 3\n",
        "y = 4\n",
        "\n",
        "print(f\"x + y = {x + y}\")\n",
        "print(f\"x - y = {x - y}\")\n",
        "print(f\"x * y = {x * y}\")\n",
        "print(f\"x / y = {x / y}\")\n",
        "print(f\"x // y = {x // y}\") # 나눗셈의 몫을 반환합니다.\n",
        "print(f\"x % y = {x % y}\") # 나눗셈의 나머지를 반환합니다."
      ]
    },
    {
      "cell_type": "code",
      "execution_count": null,
      "metadata": {
        "colab": {
          "base_uri": "https://localhost:8080/",
          "height": 340
        },
        "id": "09-y2esBwoGV",
        "outputId": "38aaa387-1f3a-4ac0-8b2e-35f1ab6e9947"
      },
      "outputs": [
        {
          "output_type": "stream",
          "name": "stdout",
          "text": [
            "x + y = HelloWorld\n",
            "x * 3 = HelloHelloHello\n",
            "x + ' ' + y = Hello World\n",
            "------------------------------ 이하 생략 ------------------------------\n",
            "str(x) + str(y) = 34\n",
            "x + y = 7\n"
          ]
        },
        {
          "output_type": "error",
          "ename": "TypeError",
          "evalue": "can only concatenate str (not \"int\") to str",
          "traceback": [
            "\u001b[0;31m---------------------------------------------------------------------------\u001b[0m",
            "\u001b[0;31mTypeError\u001b[0m                                 Traceback (most recent call last)",
            "\u001b[0;32m<ipython-input-3-ba6dcf225979>\u001b[0m in \u001b[0;36m<cell line: 19>\u001b[0;34m()\u001b[0m\n\u001b[1;32m     17\u001b[0m \u001b[0;34m\u001b[0m\u001b[0m\n\u001b[1;32m     18\u001b[0m \u001b[0;31m## 문자형으로 변환된 숫자는 더이상 숫자가 아니기 때문에, 숫자형 연산을 할 수 없습니다.\u001b[0m\u001b[0;34m\u001b[0m\u001b[0;34m\u001b[0m\u001b[0m\n\u001b[0;32m---> 19\u001b[0;31m \u001b[0mprint\u001b[0m\u001b[0;34m(\u001b[0m\u001b[0;34mf\"str(x) + y = {str(x) + y}\"\u001b[0m\u001b[0;34m)\u001b[0m\u001b[0;34m\u001b[0m\u001b[0;34m\u001b[0m\u001b[0m\n\u001b[0m\u001b[1;32m     20\u001b[0m \u001b[0;34m\u001b[0m\u001b[0m\n",
            "\u001b[0;31mTypeError\u001b[0m: can only concatenate str (not \"int\") to str"
          ]
        }
      ],
      "source": [
        "## 문자형 변수\n",
        "x = \"Hello\"\n",
        "y = \"World\"\n",
        "\n",
        "print(f\"x + y = {x + y}\") # 문자형 변수를 더하면 두 문자열이 연결됩니다.\n",
        "print(f\"x * 3 = {x * 3}\") # 문자형 변수에 정수를 곱하면 문자열이 반복됩니다.\n",
        "\n",
        "## 위를 응용하면 다음과 같이 표기할 수도 있습니다.\n",
        "print(f\"x + ' ' + y = {x + ' ' + y}\") # 공백도 문자열로 인식합니다.\n",
        "print(\"-\"*30, \"이하 생략\", \"-\"*30)\n",
        "\n",
        "## 숫자도 str() 함수를 사용하면 문자열로 변환할 수 있습니다.\n",
        "x = 3\n",
        "y = 4\n",
        "print(f\"str(x) + str(y) = {str(x) + str(y)}\")\n",
        "print(f\"x + y = {x + y}\")\n",
        "\n",
        "## 문자형으로 변환된 숫자는 더이상 숫자가 아니기 때문에, 숫자형 연산을 할 수 없습니다.\n",
        "print(f\"str(x) + y = {str(x) + y}\")\n",
        "\n"
      ]
    },
    {
      "cell_type": "code",
      "execution_count": null,
      "metadata": {
        "colab": {
          "base_uri": "https://localhost:8080/"
        },
        "id": "6l4PMLezwoGW",
        "outputId": "98fe22df-0b3d-456e-f48e-ee5f3f9c4893"
      },
      "outputs": [
        {
          "output_type": "stream",
          "name": "stdout",
          "text": [
            "x = True, y = False\n",
            "x and y = False\n",
            "x or y = True\n",
            "int(x) = 1\n",
            "int(y) = 0\n",
            "bool(x) = True\n",
            "bool(y) = False\n",
            "bool(x) = True\n",
            "bool(y) = False\n",
            "x == y = False\n",
            "x != y = True\n",
            "x > y = False\n",
            "x < y = True\n",
            "x >= y = False\n",
            "x <= y = True\n",
            "x == y = False\n",
            "x != y = True\n",
            "x > y = False\n",
            "x < y = True\n"
          ]
        }
      ],
      "source": [
        "# 참, 거짓을 나타내는 변수는 True, False를 사용합니다. 이는 boolean 변수라고 합니다.\n",
        "x = True\n",
        "y = False\n",
        "\n",
        "print(f\"x = {x}, y = {y}\")\n",
        "print(f\"x and y = {x and y}\") # and 연산자는 두 변수가 모두 True일 때만 True를 반환합니다.\n",
        "print(f\"x or y = {x or y}\") # or 연산자는 두 변수 중 하나라도 True이면 True를 반환합니다.\n",
        "\n",
        "# 위의 boolean 변수는 다음과 같이 숫자형으로 변환할 수 있습니다.\n",
        "print(f\"int(x) = {int(x)}\")\n",
        "print(f\"int(y) = {int(y)}\")\n",
        "\n",
        "# 숫자형 변수는 다음과 같이 boolean 변수로 변환할 수 있습니다.\n",
        "x = 3\n",
        "y = 0\n",
        "print(f\"bool(x) = {bool(x)}\")\n",
        "print(f\"bool(y) = {bool(y)}\")\n",
        "\n",
        "# 문자형 변수는 다음과 같이 boolean 변수로 변환할 수 있습니다.\n",
        "x = \"Hello\"\n",
        "y = \"\"\n",
        "print(f\"bool(x) = {bool(x)}\")\n",
        "print(f\"bool(y) = {bool(y)}\")\n",
        "\n",
        "# 두 변수 간 비교를 통해 boolean 변수를 만들 수 있습니다.\n",
        "x = 3\n",
        "y = 4\n",
        "print(f\"x == y = {x == y}\") # 두 변수가 같으면 True를 반환합니다.\n",
        "print(f\"x != y = {x != y}\") # 두 변수가 다르면 True를 반환합니다.\n",
        "print(f\"x > y = {x > y}\") # x가 y보다 크면 True를 반환합니다.\n",
        "print(f\"x < y = {x < y}\") # x가 y보다 작으면 True를 반환합니다.\n",
        "print(f\"x >= y = {x >= y}\") # x가 y보다 크거나 같으면 True를 반환합니다.\n",
        "print(f\"x <= y = {x <= y}\") # x가 y보다 작거나 같으면 True를 반환합니다.\n",
        "\n",
        "# 위의 비교 연산자는 다음과 같이 문자형 변수에도 적용할 수 있습니다.\n",
        "x = \"Hello\"\n",
        "y = \"World\"\n",
        "print(f\"x == y = {x == y}\") # 두 변수가 같으면 True를 반환합니다.\n",
        "print(f\"x != y = {x != y}\") # 두 변수가 다르면 True를 반환합니다.\n",
        "print(f\"x > y = {x > y}\") # x의 사전순이 y보다 크면 True를 반환합니다.\n",
        "print(f\"x < y = {x < y}\") # x의 사전순이 y보다 작으면 True를 반환합니다."
      ]
    },
    {
      "cell_type": "markdown",
      "metadata": {
        "id": "K_TrNGrcwoGW"
      },
      "source": [
        "# 2. 기본적인 자료형(list, tuple, dictionary)"
      ]
    },
    {
      "cell_type": "code",
      "execution_count": null,
      "metadata": {
        "colab": {
          "base_uri": "https://localhost:8080/"
        },
        "id": "6CXMUIurwoGW",
        "outputId": "be91d222-1335-4e8c-fff0-e7b168453fe4"
      },
      "outputs": [
        {
          "output_type": "stream",
          "name": "stdout",
          "text": [
            "x = [1, 2, 3, 4, 5, 'Hello', 'World', 3.14, True, False]\n",
            "x = [10, 2, 3, 4, 5, 'Hello', 'World', 3.14, True, False]\n"
          ]
        }
      ],
      "source": [
        "# list는 대괄호를 사용하여 표현합니다.\n",
        "x = [1, 2, 3, 4, 5]\n",
        "# list는 대부분의 변수를 담을 수 있습니다.\n",
        "x = [1, 2, 3, 4, 5, \"Hello\", \"World\", 3.14, True, False]\n",
        "print(f\"x = {x}\")\n",
        "# list 내부의 특정 변수를 변경할 수 있습니다.\n",
        "x[0] = 10\n",
        "print(f\"x = {x}\")"
      ]
    },
    {
      "cell_type": "code",
      "execution_count": null,
      "metadata": {
        "colab": {
          "base_uri": "https://localhost:8080/"
        },
        "id": "Z4acKiUwwoGX",
        "outputId": "b9d4031a-c7de-4236-9820-6855d3107e9c"
      },
      "outputs": [
        {
          "output_type": "stream",
          "name": "stdout",
          "text": [
            "x[0] = 10\n",
            "x[1] = 2\n",
            "x[-1] = False\n",
            "x[-2] = True\n"
          ]
        }
      ],
      "source": [
        "# list 내부의 변수는 다음과 같이 접근할 수 있습니다.\n",
        "print(f\"x[0] = {x[0]}\") # list의 첫 번째 변수를 반환합니다.\n",
        "print(f\"x[1] = {x[1]}\") # list의 두 번째 변수를 반환합니다.\n",
        "print(f\"x[-1] = {x[-1]}\") # list의 마지막 변수를 반환합니다.\n",
        "print(f\"x[-2] = {x[-2]}\") # list의 마지막에서 두 번째 변수를 반환합니다."
      ]
    },
    {
      "cell_type": "code",
      "execution_count": null,
      "metadata": {
        "colab": {
          "base_uri": "https://localhost:8080/"
        },
        "id": "Ls94N8UMwoGX",
        "outputId": "77552c6f-58d7-4903-a1ae-6c3ae7fdb78a"
      },
      "outputs": [
        {
          "output_type": "stream",
          "name": "stdout",
          "text": [
            "x[0:3] = [10, 2, 3]\n",
            "x[3:] = [4, 5, 'Hello', 'World', 3.14, True, False]\n",
            "x[:3] = [10, 2, 3]\n",
            "x[:-1] = [10, 2, 3, 4, 5, 'Hello', 'World', 3.14, True]\n",
            "x[-2:] = [True, False]\n",
            "x[::2] = [10, 3, 5, 'World', True]\n"
          ]
        }
      ],
      "source": [
        "# 혹은 다음과 같이 범위를 지정하여 접근할 수 있습니다. 이를 slicing이라고 합니다.\n",
        "print(f\"x[0:3] = {x[0:3]}\") # list의 첫 번째 변수부터 세 번째 변수까지 반환합니다.\n",
        "print(f\"x[3:] = {x[3:]}\") # list의 네 번째 변수부터 마지막 변수까지 반환합니다.\n",
        "print(f\"x[:3] = {x[:3]}\") # list의 첫 번째 변수부터 세 번째 변수까지 반환합니다.\n",
        "print(f\"x[:-1] = {x[:-1]}\") # list의 첫 번째 변수부터 마지막에서 두 번째 변수까지 반환합니다.\n",
        "print(f\"x[-2:] = {x[-2:]}\") # list의 마지막에서 두 번째 변수부터 마지막 변수까지 반환합니다.\n",
        "print(f\"x[::2] = {x[::2]}\") # list의 첫 번째 변수부터 마지막 변수까지 두 칸씩 건너뛰며 반환합니다.\n"
      ]
    },
    {
      "cell_type": "code",
      "execution_count": null,
      "metadata": {
        "colab": {
          "base_uri": "https://localhost:8080/"
        },
        "id": "SdSqpll1woGX",
        "outputId": "a6c74534-65e6-4551-f32d-d90c19b9f07e"
      },
      "outputs": [
        {
          "output_type": "stream",
          "name": "stdout",
          "text": [
            "x + y = [1, 2, 3, 4, 5, 6]\n",
            "x = [1, 2, 3, 4]\n",
            "x = [1, 2, 3, 4, 5, 6]\n"
          ]
        }
      ],
      "source": [
        "# list는 다음과 같이 더할 수 있습니다.\n",
        "x = [1, 2, 3]\n",
        "y = [4, 5, 6]\n",
        "print(f\"x + y = {x + y}\")\n",
        "\n",
        "# list에 변수를 추가하려면 다음과 같이 append() 함수를 사용합니다.\n",
        "x = [1, 2, 3]\n",
        "x.append(4)\n",
        "print(f\"x = {x}\")\n",
        "\n",
        "# list에 extend 함수를 사용하면 다른 list를 추가할 수 있습니다.\n",
        "x = [1, 2, 3]\n",
        "x.extend([4, 5, 6])\n",
        "print(f\"x = {x}\") # x + y와 다르게 x 자체가 변경됩니다."
      ]
    },
    {
      "cell_type": "code",
      "execution_count": null,
      "metadata": {
        "colab": {
          "base_uri": "https://localhost:8080/",
          "height": 251
        },
        "id": "lTZRplpowoGX",
        "outputId": "642c2398-a7d6-4661-da22-485066904024"
      },
      "outputs": [
        {
          "output_type": "stream",
          "name": "stdout",
          "text": [
            "x = (1, 2, 3, 4, 5, 'Hello', 'World', 3.14, True, False)\n",
            "x[0] = 1\n"
          ]
        },
        {
          "output_type": "error",
          "ename": "TypeError",
          "evalue": "'tuple' object does not support item assignment",
          "traceback": [
            "\u001b[0;31m---------------------------------------------------------------------------\u001b[0m",
            "\u001b[0;31mTypeError\u001b[0m                                 Traceback (most recent call last)",
            "\u001b[0;32m<ipython-input-9-ef4fee00ffb9>\u001b[0m in \u001b[0;36m<cell line: 11>\u001b[0;34m()\u001b[0m\n\u001b[1;32m      9\u001b[0m \u001b[0;34m\u001b[0m\u001b[0m\n\u001b[1;32m     10\u001b[0m \u001b[0;31m# 하지만 tuple은 list와 달리 내부의 변수를 변경할 수 없습니다.\u001b[0m\u001b[0;34m\u001b[0m\u001b[0;34m\u001b[0m\u001b[0m\n\u001b[0;32m---> 11\u001b[0;31m \u001b[0mx\u001b[0m\u001b[0;34m[\u001b[0m\u001b[0;36m0\u001b[0m\u001b[0;34m]\u001b[0m \u001b[0;34m=\u001b[0m \u001b[0;36m3\u001b[0m \u001b[0;31m# 이 코드는 오류를 발생시킵니다.\u001b[0m\u001b[0;34m\u001b[0m\u001b[0;34m\u001b[0m\u001b[0m\n\u001b[0m",
            "\u001b[0;31mTypeError\u001b[0m: 'tuple' object does not support item assignment"
          ]
        }
      ],
      "source": [
        "# tuple은 소괄호를 사용하여 표현합니다.\n",
        "x = (1, 2, 3, 4, 5)\n",
        "# tuple은 대부분의 변수를 담을 수 있습니다.\n",
        "x = (1, 2, 3, 4, 5, \"Hello\", \"World\", 3.14, True, False)\n",
        "print(f\"x = {x}\")\n",
        "\n",
        "# tuple 내부의 변수는 list와 동일하게 다음과 같이 접근할 수 있습니다.\n",
        "print(f\"x[0] = {x[0]}\") # tuple의 첫 번째 변수를 반환합니다.\n",
        "\n",
        "# 하지만 tuple은 list와 달리 내부의 변수를 변경할 수 없습니다.\n",
        "x[0] = 3 # 이 코드는 오류를 발생시킵니다."
      ]
    },
    {
      "cell_type": "code",
      "execution_count": null,
      "metadata": {
        "colab": {
          "base_uri": "https://localhost:8080/"
        },
        "id": "Yre2ohQuwoGY",
        "outputId": "a089abab-4d11-4a71-d397-1cbf14261bd4"
      },
      "outputs": [
        {
          "output_type": "stream",
          "name": "stdout",
          "text": [
            "x = {'name': 'John', 'age': 20, 'height': 180}\n",
            "x = {'name': 'John', 'age': 20, 'height': 180}\n",
            "x['name'] = John\n",
            "x['age'] = 20\n",
            "x = {'name': 'Jane', 'age': 20, 'height': 180}\n"
          ]
        }
      ],
      "source": [
        "# dictionary는 중괄호를 사용하여 표현합니다. 이때 각 변수는 key와 value로 구분됩니다. key : value\n",
        "x = {\"name\": \"John\", \"age\": 20, \"height\": 180}\n",
        "print(f\"x = {x}\")\n",
        "# 혹은 dict 함수를 사용하여 표현할 수도 있습니다.\n",
        "x = dict(name=\"John\", age=20, height=180)\n",
        "print(f\"x = {x}\")\n",
        "\n",
        "# dictionary 내부의 변수는 다음과 같이 접근할 수 있습니다.\n",
        "print(f\"x['name'] = {x['name']}\") # dictionary의 name 변수를 반환합니다.\n",
        "print(f\"x['age'] = {x['age']}\") # dictionary의 age 변수를 반환합니다.\n",
        "\n",
        "# dictionary 내부의 변수는 다음과 같이 변경할 수 있습니다.\n",
        "x[\"name\"] = \"Jane\"\n",
        "print(f\"x = {x}\")"
      ]
    },
    {
      "cell_type": "code",
      "execution_count": null,
      "metadata": {
        "colab": {
          "base_uri": "https://localhost:8080/"
        },
        "id": "VG8_EcJ1woGY",
        "outputId": "e848d7fd-487c-408b-bfe9-7420b7e7d5c2"
      },
      "outputs": [
        {
          "output_type": "stream",
          "name": "stdout",
          "text": [
            "x = {'name': 'Jane', 'age': 20, 'height': 180, 'weight': 70}\n",
            "x = {'name': 'Jane', 'age': 20, 'height': 180, 'weight': 70, 'example_list': []}\n",
            "x = {'name': 'Jane', 'age': 20, 'height': 180, 'weight': 70, 'example_list': [1]}\n"
          ]
        }
      ],
      "source": [
        "# dictionary 내부의 변수는 다음과 같이 추가할 수 있습니다.\n",
        "x[\"weight\"] = 70 # 기존에 없던 key를 추가하면 새로운 변수가 생성됩니다.\n",
        "print(f\"x = {x}\")\n",
        "\n",
        "# dictionary 내부에 어떠한 변수를 삽입할 수 있으므로, list를 이용하면 다음과 같이 표현할 수 있습니다.\n",
        "x['example_list'] = []\n",
        "print(f\"x = {x}\")\n",
        "x['example_list'].append(1)\n",
        "print(f\"x = {x}\")"
      ]
    },
    {
      "cell_type": "markdown",
      "metadata": {
        "id": "ya2R8PXCwoGY"
      },
      "source": [
        "# 3. if 조건문과 While / For 반복문"
      ]
    },
    {
      "cell_type": "code",
      "execution_count": null,
      "metadata": {
        "colab": {
          "base_uri": "https://localhost:8080/"
        },
        "id": "wh_7ZS-6woGY",
        "outputId": "60cb3c39-3b2a-494c-908f-1a8a7843a8c0"
      },
      "outputs": [
        {
          "output_type": "stream",
          "name": "stdout",
          "text": [
            "x is 10\n"
          ]
        }
      ],
      "source": [
        "# if문은 if 다음의 조건이 참이면 if문 내부의 코드를 실행합니다.\n",
        "x = 10\n",
        "if x == 10:\n",
        "    print(\"x is 10\") # x가 10이므로 이 코드가 실행됩니다.\n",
        "\n",
        "if x == 20:\n",
        "    print(\"x is 20\") # x가 20이 아니므로 이 코드는 실행되지 않습니다."
      ]
    },
    {
      "cell_type": "code",
      "execution_count": null,
      "metadata": {
        "colab": {
          "base_uri": "https://localhost:8080/"
        },
        "id": "nW2yEI7HwoGY",
        "outputId": "9ed55bdf-26e1-43dd-f10a-02e3c77ff1fe"
      },
      "outputs": [
        {
          "output_type": "stream",
          "name": "stdout",
          "text": [
            "x is not 20\n"
          ]
        }
      ],
      "source": [
        "# if문은 if 다음의 조건이 참이 아니면 else문 내부의 코드를 실행합니다.\n",
        "x = 10\n",
        "if x == 20:\n",
        "    print(\"x is 20\")\n",
        "else:\n",
        "    print(\"x is not 20\")"
      ]
    },
    {
      "cell_type": "code",
      "execution_count": null,
      "metadata": {
        "colab": {
          "base_uri": "https://localhost:8080/"
        },
        "id": "7pPYatzLwoGY",
        "outputId": "40bee047-b36c-4e8e-fdbc-058d46e0efba"
      },
      "outputs": [
        {
          "output_type": "stream",
          "name": "stdout",
          "text": [
            "x is not 20 and x is not 15\n"
          ]
        }
      ],
      "source": [
        "# 만약 조건이 여러 개라면 elif문을 사용합니다.\n",
        "x = 10\n",
        "if x == 20:\n",
        "    print(\"x is 20\")\n",
        "elif x == 15:\n",
        "    print(\"x is 10\")\n",
        "else:\n",
        "    print(\"x is not 20 and x is not 15\")"
      ]
    },
    {
      "cell_type": "code",
      "execution_count": null,
      "metadata": {
        "colab": {
          "base_uri": "https://localhost:8080/"
        },
        "id": "FZIt1WJEwoGZ",
        "outputId": "bc52ed3c-b256-49d3-a789-8dc74e506058"
      },
      "outputs": [
        {
          "output_type": "stream",
          "name": "stdout",
          "text": [
            "0\n",
            "1\n",
            "2\n",
            "3\n",
            "4\n",
            "5\n",
            "6\n",
            "7\n",
            "8\n",
            "9\n",
            "1\n",
            "2\n",
            "3\n",
            "4\n",
            "5\n"
          ]
        }
      ],
      "source": [
        "# 반복문은 자료를 반복적으로 실행할 때 사용합니다.\n",
        "# for문은 다음과 같이 사용합니다.\n",
        "for i in range(10): # range(10)은 0부터 9까지의 숫자를 반환합니다.\n",
        "    print(i)\n",
        "\n",
        "# for문은 다음과 같이 사용할 수도 있습니다.\n",
        "for i in [1, 2, 3, 4, 5]:\n",
        "    print(i)"
      ]
    },
    {
      "cell_type": "code",
      "execution_count": null,
      "metadata": {
        "colab": {
          "base_uri": "https://localhost:8080/"
        },
        "id": "oBFIdih5woGZ",
        "outputId": "ca5489bb-6b37-4764-c0e8-c00cbf7c42c7"
      },
      "outputs": [
        {
          "output_type": "stream",
          "name": "stdout",
          "text": [
            "name = John\n",
            "age = 20\n",
            "height = 180\n"
          ]
        }
      ],
      "source": [
        "# for문에 dictionary를 사용할 수도 있습니다.\n",
        "x = {\"name\": \"John\", \"age\": 20, \"height\": 180}\n",
        "for key, value in x.items(): # x.items()는 x의 key와 value를 순차적으로 반환합니다.\n",
        "    print(f\"{key} = {value}\")"
      ]
    },
    {
      "cell_type": "code",
      "execution_count": null,
      "metadata": {
        "colab": {
          "base_uri": "https://localhost:8080/"
        },
        "id": "eSnaatSxwoGZ",
        "outputId": "76ad4f05-1070-45ad-a8c0-6ac803998425"
      },
      "outputs": [
        {
          "output_type": "stream",
          "name": "stdout",
          "text": [
            "0\n",
            "1\n",
            "2\n",
            "3\n",
            "4\n",
            "5\n",
            "6\n",
            "7\n",
            "8\n",
            "9\n"
          ]
        }
      ],
      "source": [
        "# while문은 정해진 조건이 만족되는 동안 반복적으로 실행합니다.\n",
        "i = 0\n",
        "while i < 10:\n",
        "    print(i)\n",
        "    i += 1 # i = i + 1과 동일합니다. i가 한번 반복될 때마다 1씩 증가합니다."
      ]
    },
    {
      "cell_type": "code",
      "execution_count": null,
      "metadata": {
        "colab": {
          "base_uri": "https://localhost:8080/"
        },
        "id": "PSuJmq6UwoGZ",
        "outputId": "b6812e99-cdd8-4413-ff8b-92b4a9fbf213"
      },
      "outputs": [
        {
          "output_type": "stream",
          "name": "stdout",
          "text": [
            "0\n",
            "1\n",
            "2\n",
            "3\n",
            "4\n",
            "5\n",
            "6\n",
            "7\n",
            "8\n",
            "9\n"
          ]
        }
      ],
      "source": [
        "# while 문을 도중에 멈추고 싶다면 다음과 같이 break를 사용합니다.\n",
        "i = 0\n",
        "while True: # while은 True가 아닐 때까지 반복합니다. 따라서 while True는 무한히 반복합니다.\n",
        "    print(i)\n",
        "    i += 1\n",
        "    if i == 10:\n",
        "        break # i가 10이 되면 while문을 멈춥니다."
      ]
    },
    {
      "cell_type": "markdown",
      "metadata": {
        "id": "SsIDtevFwoGZ"
      },
      "source": [
        "# 4. print 문과 formatting"
      ]
    },
    {
      "cell_type": "code",
      "execution_count": null,
      "metadata": {
        "colab": {
          "base_uri": "https://localhost:8080/"
        },
        "id": "g3xnLbK-woGZ",
        "outputId": "86d2b771-888f-4fd9-b8e7-541e3a46a08c"
      },
      "outputs": [
        {
          "output_type": "stream",
          "name": "stdout",
          "text": [
            "10\n"
          ]
        }
      ],
      "source": [
        "# 지금까지 사용한 내용처럼 print는 변수의 값을 출력하는 함수입니다.\n",
        "x = 10\n",
        "print(x) # x의 값을 출력합니다."
      ]
    },
    {
      "cell_type": "code",
      "execution_count": null,
      "metadata": {
        "colab": {
          "base_uri": "https://localhost:8080/"
        },
        "id": "_FB8Z_PKwoGZ",
        "outputId": "f087a4af-2666-48b3-8cd9-3887dcb5cb0e"
      },
      "outputs": [
        {
          "output_type": "stream",
          "name": "stdout",
          "text": [
            "x는 중간에 출력되지 않습니다.\n"
          ]
        },
        {
          "output_type": "execute_result",
          "data": {
            "text/plain": [
              "20"
            ]
          },
          "metadata": {},
          "execution_count": 20
        }
      ],
      "source": [
        "# jupyter notebook에선 셀의 마지막에 입력된 변수는 자동으로 출력됩니다.\n",
        "x = 10\n",
        "x\n",
        "print(\"x는 중간에 출력되지 않습니다.\")\n",
        "y = 20\n",
        "y"
      ]
    },
    {
      "cell_type": "code",
      "execution_count": null,
      "metadata": {
        "colab": {
          "base_uri": "https://localhost:8080/"
        },
        "id": "Oa_xsL0NwoGZ",
        "outputId": "b4d6e8b0-fe87-4f8c-e17f-26bdc0d34fb4"
      },
      "outputs": [
        {
          "output_type": "stream",
          "name": "stdout",
          "text": [
            "10\n",
            "x는 중간에 출력됩니다.\n"
          ]
        },
        {
          "output_type": "execute_result",
          "data": {
            "text/plain": [
              "20"
            ]
          },
          "metadata": {},
          "execution_count": 21
        }
      ],
      "source": [
        "# print를 사용하면 중간에 출력할 수 있습니다.\n",
        "x = 10\n",
        "print(x)\n",
        "print(\"x는 중간에 출력됩니다.\")\n",
        "y = 20\n",
        "y"
      ]
    },
    {
      "cell_type": "code",
      "execution_count": null,
      "metadata": {
        "colab": {
          "base_uri": "https://localhost:8080/"
        },
        "id": "2Svu75qlwoGZ",
        "outputId": "0af2f0dd-4819-4f0f-d20f-f735c868f1c2"
      },
      "outputs": [
        {
          "output_type": "stream",
          "name": "stdout",
          "text": [
            "x = 10\n",
            "x = 10\n",
            "x = 10, y = 20\n",
            "거꾸로 입력한다면 : y = 10, x = 20\n"
          ]
        }
      ],
      "source": [
        "# formatting은 문자열 내부에 변수를 삽입하는 방법입니다.\n",
        "x = 10\n",
        "# f-string을 사용하면 변수를 쉽게 삽입할 수 있습니다.\n",
        "## {} 내부에 변수를 삽입하면 해당 위치에서 변수의 값이 함께 출력됩니다.\n",
        "print(f\"x = {x}\")\n",
        "\n",
        "# f-string을 사용하지 않고 formatting을 하려면 다음과 같이 사용합니다.\n",
        "x = 10\n",
        "print(\"x = {}\".format(x)) # {} 내부에 변수를 삽입하고, format 함수의 인자로 변수를 전달합니다.\n",
        "\n",
        "# format 함수 사용 시 변수가 여러 개라면, 순차적으로 입력해야 합니다.\n",
        "x = 10\n",
        "y = 20\n",
        "print(\"x = {}, y = {}\".format(x, y))\n",
        "print('거꾸로 입력한다면 : y = {}, x = {}'.format(x, y))"
      ]
    },
    {
      "cell_type": "code",
      "execution_count": null,
      "metadata": {
        "colab": {
          "base_uri": "https://localhost:8080/"
        },
        "id": "mXKebuS-woGa",
        "outputId": "1ef4d585-7771-40ab-d3ba-0c26ad3f1810"
      },
      "outputs": [
        {
          "output_type": "stream",
          "name": "stdout",
          "text": [
            "x = 10, y = 20\n",
            "x = 10, y = 20\n",
            "x = 15, y = 25\n"
          ]
        }
      ],
      "source": [
        "# format 함수를 사용할 때 변수의 이름을 지정할 수도 있습니다.\n",
        "x = 10\n",
        "y = 20\n",
        "print(\"x = {first}, y = {second}\".format(first=x, second=y))\n",
        "\n",
        "## format을 꼭 print와 사용해야 하는 것은 아닙니다.\n",
        "## format 함수는 문자열을 반환합니다.\n",
        "x = 10\n",
        "y = 20\n",
        "formatted_string = \"x = {first}, y = {second}\"\n",
        "print(formatted_string.format(first=x, second=y))\n",
        "\n",
        "x = 15\n",
        "y = 25\n",
        "print(formatted_string.format(first=x, second=y))\n"
      ]
    },
    {
      "cell_type": "code",
      "execution_count": null,
      "metadata": {
        "colab": {
          "base_uri": "https://localhost:8080/"
        },
        "id": "kxWC0-AxwoGa",
        "outputId": "9bcbf2bd-fa4d-42ad-8d43-553bc801de69"
      },
      "outputs": [
        {
          "output_type": "stream",
          "name": "stdout",
          "text": [
            "i = 0\n",
            "i = 1\n",
            "i = 2\n",
            "i = 3\n",
            "i = 4\n",
            "i = 5\n",
            "i = 6\n",
            "i = 7\n",
            "i = 8\n",
            "i = 9\n"
          ]
        }
      ],
      "source": [
        "# for문과 f-string을 사용하면 다음과 같이 출력할 수 있습니다.\n",
        "for i in range(10):\n",
        "    print(f\"i = {i}\") # i가 0부터 9까지 변하면서 출력됩니다."
      ]
    },
    {
      "cell_type": "code",
      "execution_count": null,
      "metadata": {
        "colab": {
          "base_uri": "https://localhost:8080/"
        },
        "id": "LxL_YWemwoGa",
        "outputId": "c433e659-924e-4c88-e461-9f185bac1fdd"
      },
      "outputs": [
        {
          "output_type": "stream",
          "name": "stdout",
          "text": [
            "x =    10\n",
            "x = 00010\n",
            "x = 10\n",
            "x = 10\n"
          ]
        }
      ],
      "source": [
        "# formatting 시 출력될 숫자의 자릿수 및 길이를 지정할 수 있습니다.\n",
        "x = 10\n",
        "print(f\"x = {x:5}\") # x = 10이 출력되는데, 5칸을 차지합니다.\n",
        "print(f\"x = {x:05}\") # x = 10이 출력되는데, 5칸을 차지하고, 빈칸은 0으로 채웁니다.\n",
        "print(f\"x = {x:2}\") # x = 10이 출력되는데, 2칸을 차지합니다. 따라서 10이 출력됩니다.\n",
        "print(f\"x = {x:1}\") # x = 10이 출력되는데, 1칸을 차지합니다. 따라서 10이 출력됩니다."
      ]
    },
    {
      "cell_type": "code",
      "execution_count": null,
      "metadata": {
        "colab": {
          "base_uri": "https://localhost:8080/"
        },
        "id": "l8lGu35zwoGa",
        "outputId": "3cb01f79-65e1-4479-8790-b59c27bd0a87"
      },
      "outputs": [
        {
          "output_type": "stream",
          "name": "stdout",
          "text": [
            "x = 3.14\n",
            "x = 3.142\n",
            "x =                   3.1415920000\n"
          ]
        }
      ],
      "source": [
        "# 소수 표현 시 간단하게 표현할 수 있습니다.\n",
        "x = 3.141592\n",
        "print(f\"x = {x:.2f}\") # x = 3.14이 출력됩니다. 소수점 둘째자리까지 출력합니다.\n",
        "print(f\"x = {x:.3f}\") # x = 3.142이 출력됩니다. 소수점 셋째자리까지 출력합니다.\n",
        "print(f\"x = {x:30.10f}\") # x = 3.1415920000이 출력됩니다. 30칸을 차지하고, 소수점 아래 10자리까지 출력합니다."
      ]
    },
    {
      "cell_type": "markdown",
      "metadata": {
        "id": "-F3YfdI7woGa"
      },
      "source": [
        "# 5. 함수"
      ]
    },
    {
      "cell_type": "code",
      "execution_count": null,
      "metadata": {
        "colab": {
          "base_uri": "https://localhost:8080/"
        },
        "id": "odGe4nY_woGa",
        "outputId": "369f1227-09a4-4a67-c2f2-d827ae184a47"
      },
      "outputs": [
        {
          "output_type": "stream",
          "name": "stdout",
          "text": [
            "30\n"
          ]
        }
      ],
      "source": [
        "# 함수는 특정 기능을 수행하는 코드의 묶음입니다.\n",
        "# 함수를 정의하는 방법은 다음과 같습니다.\n",
        "def add(x, y): # add 함수는 x와 y를 인자로 받습니다.\n",
        "    return x + y # x와 y를 더한 값을 반환합니다.\n",
        "\n",
        "# 함수를 사용하는 방법은 다음과 같습니다.\n",
        "x = 10\n",
        "y = 20\n",
        "z = add(x, y) # add 함수에 x와 y를 전달하고, 반환된 값을 z에 저장합니다.\n",
        "print(z)"
      ]
    },
    {
      "cell_type": "code",
      "execution_count": null,
      "metadata": {
        "colab": {
          "base_uri": "https://localhost:8080/"
        },
        "id": "0aZs7V6VwoGa",
        "outputId": "32f1f429-25e6-444d-fb4c-348ed32e64e5"
      },
      "outputs": [
        {
          "output_type": "stream",
          "name": "stdout",
          "text": [
            "z_1 = 20, z_2 = 30\n"
          ]
        }
      ],
      "source": [
        "# 함수를 정의할 때, 인자에 기본값을 지정할 수 있습니다. 기본값은 별도로 해당 인자를 입력하지 않으면 사용되게 됩니다.\n",
        "def add(x, y=10): # add 함수는 x와 y를 인자로 받습니다. y의 기본값은 10입니다.\n",
        "    return x + y # x와 y를 더한 값을 반환합니다.\n",
        "\n",
        "x = 10\n",
        "z_1 = add(x) # add 함수에 x를 전달하고, 반환된 값을 z에 저장합니다.\n",
        "\n",
        "z_2 = add(x = x, y = 20) # add 함수에 x와 y를 전달하고, 반환된 값을 z에 저장합니다.\n",
        "\n",
        "print(f\"z_1 = {z_1}, z_2 = {z_2}\")"
      ]
    },
    {
      "cell_type": "code",
      "execution_count": null,
      "metadata": {
        "colab": {
          "base_uri": "https://localhost:8080/"
        },
        "id": "HAbA8-zqwoGa",
        "outputId": "242b6810-51bf-4935-d36b-7fd7ddc31e1b"
      },
      "outputs": [
        {
          "output_type": "stream",
          "name": "stdout",
          "text": [
            "z_1 = 30, z_2 = 20\n"
          ]
        }
      ],
      "source": [
        "# 함수는 함수 내부 변수와 함수 외부 변수를 구분합니다.\n",
        "x = 10 # 함수 외부 변수\n",
        "def add(y): # add 함수는 y를 인자로 받습니다.\n",
        "    x = 20 # 함수 내부 변수입니다. 이 변수는 외부에서 접근할 수 없습니다.\n",
        "    return x + y # x와 y를 더한 값을 반환합니다.\n",
        "\n",
        "z_1 = add(10) # add 함수에 10을 전달하고, 반환된 값을 z에 저장합니다.\n",
        "\n",
        "def add_2(y) :\n",
        "    return x + y # x와 y를 더한 값을 반환합니다. 이때, x는 함수 외부 변수입니다.\n",
        "\n",
        "z_2 = add_2(10) # add 함수에 10을 전달하고, 반환된 값을 z에 저장합니다.\n",
        "\n",
        "print(f\"z_1 = {z_1}, z_2 = {z_2}\")"
      ]
    },
    {
      "cell_type": "code",
      "execution_count": null,
      "metadata": {
        "colab": {
          "base_uri": "https://localhost:8080/",
          "height": 233
        },
        "id": "ayHrDBiuwoGb",
        "outputId": "08ba906c-19e6-47a1-aa0e-0c60d35db665"
      },
      "outputs": [
        {
          "output_type": "stream",
          "name": "stdout",
          "text": [
            "result = 30\n"
          ]
        },
        {
          "output_type": "error",
          "ename": "NameError",
          "evalue": "name 'print_result' is not defined",
          "traceback": [
            "\u001b[0;31m---------------------------------------------------------------------------\u001b[0m",
            "\u001b[0;31mNameError\u001b[0m                                 Traceback (most recent call last)",
            "\u001b[0;32m<ipython-input-30-a4de3bc898b8>\u001b[0m in \u001b[0;36m<cell line: 12>\u001b[0;34m()\u001b[0m\n\u001b[1;32m     10\u001b[0m \u001b[0mz\u001b[0m \u001b[0;34m=\u001b[0m \u001b[0madd\u001b[0m\u001b[0;34m(\u001b[0m\u001b[0;36m10\u001b[0m\u001b[0;34m,\u001b[0m \u001b[0;36m20\u001b[0m\u001b[0;34m)\u001b[0m\u001b[0;34m\u001b[0m\u001b[0;34m\u001b[0m\u001b[0m\n\u001b[1;32m     11\u001b[0m \u001b[0;34m\u001b[0m\u001b[0m\n\u001b[0;32m---> 12\u001b[0;31m \u001b[0mprint_result\u001b[0m\u001b[0;34m(\u001b[0m\u001b[0mz\u001b[0m\u001b[0;34m)\u001b[0m \u001b[0;31m# print_result 함수는 add 함수 내부에서만 사용할 수 있습니다. 따라서 이 코드는 오류를 발생시킵니다.\u001b[0m\u001b[0;34m\u001b[0m\u001b[0;34m\u001b[0m\u001b[0m\n\u001b[0m",
            "\u001b[0;31mNameError\u001b[0m: name 'print_result' is not defined"
          ]
        }
      ],
      "source": [
        "# 함수 내부에 별도의 함수를 정의할 수 있습니다.\n",
        "def add(x, y):\n",
        "    def print_result(result) : # print_result 함수는 result를 인자로 받습니다. 해당 함수는 add 함수 내부에서만 사용할 수 있습니다.\n",
        "        print(f\"result = {result}\")\n",
        "\n",
        "    result = x + y\n",
        "    print_result(result)\n",
        "    return result\n",
        "\n",
        "z = add(10, 20)\n",
        "\n",
        "print_result(z) # print_result 함수는 add 함수 내부에서만 사용할 수 있습니다. 따라서 이 코드는 오류를 발생시킵니다."
      ]
    },
    {
      "cell_type": "code",
      "execution_count": null,
      "metadata": {
        "colab": {
          "base_uri": "https://localhost:8080/"
        },
        "id": "7_5TCu4vwoGb",
        "outputId": "81dc1ee2-1395-47ee-b68f-8db4880acb2c"
      },
      "outputs": [
        {
          "output_type": "stream",
          "name": "stdout",
          "text": [
            "(30, -10)\n",
            "<class 'tuple'>\n"
          ]
        }
      ],
      "source": [
        "# 함수의 출력값은 여러 개일 수 있습니다. 이때, 출력값은 tuple로 반환됩니다.\n",
        "def add_sub(x, y):\n",
        "    return x + y, x - y\n",
        "\n",
        "z = add_sub(10, 20)\n",
        "print(z) # z는 tuple입니다.\n",
        "print(type(z)) # z의 타입은 tuple입니다."
      ]
    },
    {
      "cell_type": "markdown",
      "metadata": {
        "id": "kLu3BHznwoGb"
      },
      "source": [
        "# 6. 클래스"
      ]
    },
    {
      "cell_type": "code",
      "execution_count": null,
      "metadata": {
        "colab": {
          "base_uri": "https://localhost:8080/"
        },
        "id": "BEoX9hd2woGb",
        "outputId": "3554251f-dc04-40b0-f710-17a2f78ccdfc"
      },
      "outputs": [
        {
          "output_type": "stream",
          "name": "stdout",
          "text": [
            "Calculator(x=10, y=20)\n"
          ]
        }
      ],
      "source": [
        "# 클래스는 객체를 생성하기 위한 틀입니다.\n",
        "# 우리가 사용하고 싶은 여러가지 변수와 함수를 클래스에 정의해두면, 이를 통해 객체를 생성할 수 있습니다.\n",
        "# 반복적으로 사용되는 요소들(모델, 데이터셋 등)을 클래스로 정의해두면, 편리하게 사용할 수 있습니다.\n",
        "\n",
        "# 클래스를 정의하는 방법은 다음과 같습니다.\n",
        "class Calculator: # Calculator 클래스를 정의합니다.\n",
        "    def __init__(self, x, y): # __init__ 함수는 Calculator 클래스의 인스턴스를 생성할 때 호출됩니다.\n",
        "        self.x = x # Calculator 클래스의 인스턴스에 x라는 변수를 추가합니다.\n",
        "        self.y = y # Calculator 클래스의 인스턴스에 y라는 변수를 추가합니다.\n",
        "\n",
        "    def add(self): # add 함수는 인자를 받지 않습니다.\n",
        "        return self.x + self.y # Calculator 클래스의 인스턴스에 x와 y를 더한 값을 반환합니다.\n",
        "\n",
        "    def sub(self): # sub 함수는 인자를 받지 않습니다.\n",
        "        return self.x - self.y # Calculator 클래스의 인스턴스에 x와 y를 뺀 값을 반환합니다.\n",
        "\n",
        "    def mul(self): # mul 함수는 인자를 받지 않습니다.\n",
        "        return self.x * self.y # Calculator 클래스의 인스턴스에 x와 y를 곱한 값을 반환합니다.\n",
        "\n",
        "    def div(self): # div 함수는 인자를 받지 않습니다.\n",
        "        return self.x / self.y # Calculator 클래스의 인스턴스에 x와 y를 나눈 값을 반환합니다.\n",
        "\n",
        "    def calculate(self, op): # calculate 함수는 op라는 인자를 받습니다.\n",
        "        if op == \"+\": # op가 +라면\n",
        "            return self.add() # add 함수를 호출합니다.\n",
        "        elif op == \"-\": # op가 -라면\n",
        "            return self.sub() # sub 함수를 호출합니다.\n",
        "        elif op == \"*\": # op가 *라면\n",
        "            return self.mul() # mul 함수를 호출합니다.\n",
        "        elif op == \"/\": # op가 /라면\n",
        "            return self.div() # div 함수를 호출합니다.\n",
        "\n",
        "    def __repr__(self) -> str: # __repr__ 함수는 인스턴스를 출력할 때 호출됩니다. 즉, print(Calculator())를 호출하면, __repr__ 함수가 호출됩니다.\n",
        "        return f\"Calculator(x={self.x}, y={self.y})\"\n",
        "\n",
        "    def change_xy(self, x, y): # change_xy 함수는 x와 y라는 인자를 받습니다.\n",
        "        self.x = x # Calculator 클래스의 x 변수를 변경합니다.\n",
        "        self.y = y # Calculator 클래스의 y 변수를 변경합니다.\n",
        "\n",
        "# 클래스를 사용하는 방법은 다음과 같습니다.\n",
        "calculator = Calculator(10, 20) # Calculator 클래스의 인스턴스를 생성합니다. 이때, x는 10, y는 20입니다.\n",
        "print(calculator) # calculator를 출력합니다. 이때, __repr__ 함수가 호출됩니다."
      ]
    },
    {
      "cell_type": "code",
      "execution_count": null,
      "metadata": {
        "colab": {
          "base_uri": "https://localhost:8080/"
        },
        "id": "KU4NMZY-woGh",
        "outputId": "abe33197-1d85-4897-e2f1-4fab31fad6b5"
      },
      "outputs": [
        {
          "output_type": "stream",
          "name": "stdout",
          "text": [
            "add_result = 30, sub_result = -10, mul_result = 200, div_result = 0.5\n"
          ]
        }
      ],
      "source": [
        "# 실제로 클래스를 이용하여 여러가지 연산을 수행할 수 있습니다.\n",
        "add_result = calculator.add() # calculator의 add 함수를 호출합니다.\n",
        "sub_result = calculator.sub() # calculator의 sub 함수를 호출합니다.\n",
        "mul_result = calculator.mul() # calculator의 mul 함수를 호출합니다.\n",
        "div_result = calculator.div() # calculator의 div 함수를 호출합니다.\n",
        "\n",
        "print(f\"add_result = {add_result}, sub_result = {sub_result}, mul_result = {mul_result}, div_result = {div_result}\")\n"
      ]
    },
    {
      "cell_type": "code",
      "execution_count": null,
      "metadata": {
        "colab": {
          "base_uri": "https://localhost:8080/"
        },
        "id": "9gpeKU_VwoGh",
        "outputId": "0f36aa0a-ed9f-4754-81ef-9d726151c4d4"
      },
      "outputs": [
        {
          "output_type": "stream",
          "name": "stdout",
          "text": [
            "add_result = 50, sub_result = -10, mul_result = 600, div_result = 0.6666666666666666\n"
          ]
        }
      ],
      "source": [
        "# 기존에 선언되어 있는 클래스 내 변수의 값을 변경해 보겠습니다.\n",
        "calculator.change_xy(20, 30) # calculator의 change_xy 함수를 호출합니다. 이때, x는 20, y는 30입니다.\n",
        "add_result = calculator.add() # calculator의 add 함수를 호출합니다.\n",
        "sub_result = calculator.sub() # calculator의 sub 함수를 호출합니다.\n",
        "mul_result = calculator.mul() # calculator의 mul 함수를 호출합니다.\n",
        "div_result = calculator.div() # calculator의 div 함수를 호출합니다.\n",
        "\n",
        "print(f\"add_result = {add_result}, sub_result = {sub_result}, mul_result = {mul_result}, div_result = {div_result}\")"
      ]
    },
    {
      "cell_type": "code",
      "execution_count": null,
      "metadata": {
        "colab": {
          "base_uri": "https://localhost:8080/"
        },
        "id": "HqckKzQxwoGh",
        "outputId": "d84a4ec5-284a-4a25-ea09-c6ad9039b990"
      },
      "outputs": [
        {
          "output_type": "stream",
          "name": "stdout",
          "text": [
            "calculator.x = 20, calculator.y = 30\n"
          ]
        }
      ],
      "source": [
        "# 또한, 클래스 내 변수에 대해 직접 접근할 수 있습니다.\n",
        "print(f\"calculator.x = {calculator.x}, calculator.y = {calculator.y}\")"
      ]
    },
    {
      "cell_type": "code",
      "execution_count": null,
      "metadata": {
        "colab": {
          "base_uri": "https://localhost:8080/"
        },
        "id": "VIY4I4fUwoGi",
        "outputId": "f56bd168-5cef-4507-8bdd-218d6487c87f"
      },
      "outputs": [
        {
          "output_type": "stream",
          "name": "stdout",
          "text": [
            "Calculator(x=10, y=20)\n",
            "add_result = 60, sub_result = -10, mul_result = 200, div_result = 0.5\n"
          ]
        }
      ],
      "source": [
        "## 기존에 정의되어 있는 클래스를 상속받아 새로운 클래스를 정의할 수 있습니다.\n",
        "class NewCalculator(Calculator): # NewCalculator 클래스는 Calculator 클래스를 상속받습니다.\n",
        "    def __init__(self, x, y, z): # __init__ 함수는 NewCalculator 클래스의 인스턴스를 생성할 때 호출됩니다.\n",
        "        super().__init__(x, y) # super를 이용하여 상속받은 Calculator 클래스의 __init__ 함수를 호출합니다.\n",
        "        self.z = z # NewCalculator 클래스의 인스턴스에 z라는 변수를 추가합니다.\n",
        "\n",
        "    def add(self):\n",
        "        return super().add() + self.z # super를 이용하여 상속받은 Calculator 클래스의 add 함수를 호출합니다. 이때, z를 더합니다.\n",
        "\n",
        "\n",
        "# 상속받은 클래스를 사용하는 방법은 다음과 같습니다.\n",
        "new_calculator = NewCalculator(10, 20, 30) # NewCalculator 클래스의 인스턴스를 생성합니다. 이때, x는 10, y는 20, z는 30입니다.\n",
        "print(new_calculator) # new_calculator를 출력합니다. 이때, __repr__ 함수가 호출됩니다. NewCalculator 클래스는 Calculator 클래스를 상속받았기 때문에, Calculator 클래스의 __repr__ 함수가 호출됩니다.\n",
        "\n",
        "# 상속받은 클래스를 사용하여 여러가지 연산을 수행할 수 있습니다.\n",
        "add_result = new_calculator.add() # new_calculator의 add 함수를 호출합니다.\n",
        "sub_result = new_calculator.sub() # NewCalculator에서 새로이 sub을 정의하지 않았기 때문에, Calculator 클래스의 sub 함수가 호출됩니다.\n",
        "mul_result = new_calculator.mul() # NewCalculator에서 새로이 mul을 정의하지 않았기 때문에, Calculator 클래스의 mul 함수가 호출됩니다.\n",
        "div_result = new_calculator.div() # NewCalculator에서 새로이 div을 정의하지 않았기 때문에, Calculator 클래스의 div 함수가 호출됩니다.\n",
        "\n",
        "print(f\"add_result = {add_result}, sub_result = {sub_result}, mul_result = {mul_result}, div_result = {div_result}\")\n",
        "\n"
      ]
    },
    {
      "cell_type": "code",
      "execution_count": null,
      "metadata": {
        "id": "6N1eE9cFwoGi"
      },
      "outputs": [],
      "source": [
        "## 연습문제 : 다음과 같은 클래스를 정의하고, 이를 사용하여 다음과 같은 결과를 출력해 보세요.\n",
        "# 1. Calculator 클래스를 정의되어 있습니다. 다만, 이 클래스는 도형의 종류만 입력으로 받습니다.\n",
        "# 2. Calculator 클래스를 상속받아 도형의 넓이를 실제로 계산하는 CalculatorWithArea 클래스를 정의합니다.\n",
        "# 3. CalculatorWithArea 클래스를 사용하여 다음과 같은 결과를 출력할 수 있도록, 코드를 작성해보세요.\n",
        "## 입력\n",
        "# 1. 도형의 종류를 입력하세요. (1. 사각형, 2. 삼각형, 3. 원)\n",
        "# 2. 도형의 종류에 따라, 도형의 넓이를 계산할 수 있도록, 코드를 작성해보세요.\n",
        "### calculator.calculate_area(shape = \"사각형\", x = 10, y = 20) # 사각형의 넓이를 계산합니다.\n",
        "\n",
        "class Calculator :\n",
        "    def __init__(self, shape) :\n",
        "        self.shape = shape\n",
        "\n",
        "    def __repr__(self) :\n",
        "        return f\"Calculator(shape = {self.shape})\"\n",
        "\n",
        "    def print_equation(self, x, y) :\n",
        "        if self.shape == '사각형' :\n",
        "            print(f\"{self.shape}의 넓이를 계산합니다.\")\n",
        "            print(f\"{self.shape}의 넓이 = {x} * {y}\")\n",
        "        elif self.shape == '삼각형' :\n",
        "            print(f\"{self.shape}의 넓이를 계산합니다.\")\n",
        "            print(f\"{self.shape}의 넓이 = {x} * {y} / 2\")\n",
        "        elif self.shape == '원' :\n",
        "            print(f\"{self.shape}의 넓이를 계산합니다.\")\n",
        "            print(f\"{self.shape}의 넓이 = {x} * {x} * 3.14\")\n",
        "\n",
        "class CalculatorWithArea(Calculator) :\n",
        "    def __init__(self, shape) :\n",
        "        super().__init__(shape)\n",
        "\n",
        "    def calculate_area(self, x, y) :\n",
        "        \"\"\"\n",
        "        해당 도형의 넓이를 계산하는 함수가 작성되어야 합니다.\n",
        "        \"\"\""
      ]
    },
    {
      "cell_type": "code",
      "execution_count": null,
      "metadata": {
        "colab": {
          "base_uri": "https://localhost:8080/",
          "height": 287
        },
        "id": "6Z2xqaMswoGi",
        "outputId": "e6fd684e-0a6a-4012-f282-55930b099a74"
      },
      "outputs": [
        {
          "output_type": "stream",
          "name": "stdout",
          "text": [
            "사각형의 넓이를 계산합니다.\n",
            "사각형의 넓이 = 10 * 20\n"
          ]
        },
        {
          "output_type": "error",
          "ename": "AttributeError",
          "evalue": "'Calculator' object has no attribute 'calculate_area'",
          "traceback": [
            "\u001b[0;31m---------------------------------------------------------------------------\u001b[0m",
            "\u001b[0;31mAttributeError\u001b[0m                            Traceback (most recent call last)",
            "\u001b[0;32m<ipython-input-38-284271c43d4c>\u001b[0m in \u001b[0;36m<cell line: 5>\u001b[0;34m()\u001b[0m\n\u001b[1;32m      3\u001b[0m \u001b[0;31m# 1. 사각형 넓이 계산\u001b[0m\u001b[0;34m\u001b[0m\u001b[0;34m\u001b[0m\u001b[0m\n\u001b[1;32m      4\u001b[0m \u001b[0mcalculator\u001b[0m\u001b[0;34m.\u001b[0m\u001b[0mprint_equation\u001b[0m\u001b[0;34m(\u001b[0m\u001b[0;36m10\u001b[0m\u001b[0;34m,\u001b[0m \u001b[0;36m20\u001b[0m\u001b[0;34m)\u001b[0m\u001b[0;34m\u001b[0m\u001b[0;34m\u001b[0m\u001b[0m\n\u001b[0;32m----> 5\u001b[0;31m \u001b[0msquare_area\u001b[0m \u001b[0;34m=\u001b[0m \u001b[0mcalculator\u001b[0m\u001b[0;34m.\u001b[0m\u001b[0mcalculate_area\u001b[0m\u001b[0;34m(\u001b[0m\u001b[0;36m10\u001b[0m\u001b[0;34m,\u001b[0m \u001b[0;36m20\u001b[0m\u001b[0;34m)\u001b[0m\u001b[0;34m\u001b[0m\u001b[0;34m\u001b[0m\u001b[0m\n\u001b[0m\u001b[1;32m      6\u001b[0m \u001b[0mprint\u001b[0m\u001b[0;34m(\u001b[0m\u001b[0;34mf\"square_area = {square_area}\"\u001b[0m\u001b[0;34m)\u001b[0m \u001b[0;31m# 정답 : 200\u001b[0m\u001b[0;34m\u001b[0m\u001b[0;34m\u001b[0m\u001b[0m\n\u001b[1;32m      7\u001b[0m \u001b[0;34m\u001b[0m\u001b[0m\n",
            "\u001b[0;31mAttributeError\u001b[0m: 'Calculator' object has no attribute 'calculate_area'"
          ]
        }
      ],
      "source": [
        "# 작성된 함수를 테스트해보세요.\n",
        "calculator = Calculator(\"사각형\")\n",
        "# 1. 사각형 넓이 계산\n",
        "calculator.print_equation(10, 20)\n",
        "square_area = calculator.calculate_area(10, 20)\n",
        "print(f\"square_area = {square_area}\") # 정답 : 200\n",
        "\n",
        "# 2. 삼각형 넓이 계산\n",
        "calculator = Calculator(\"삼각형\")\n",
        "calculator.print_equation(10, 20)\n",
        "triangle_area = calculator.calculate_area(10, 20)\n",
        "print(f\"triangle_area = {triangle_area}\") # 정답 : 100\n",
        "\n",
        "# 3. 원 넓이 계산\n",
        "calculator = Calculator(\"원\")\n",
        "calculator.print_equation(10, 20)\n",
        "circle_area = calculator.calculate_area(10, 20)\n",
        "print(f\"circle_area = {circle_area}\") # 정답 : 314"
      ]
    }
  ],
  "metadata": {
    "kernelspec": {
      "display_name": "base",
      "language": "python",
      "name": "python3"
    },
    "language_info": {
      "codemirror_mode": {
        "name": "ipython",
        "version": 3
      },
      "file_extension": ".py",
      "mimetype": "text/x-python",
      "name": "python",
      "nbconvert_exporter": "python",
      "pygments_lexer": "ipython3",
      "version": "3.8.13"
    },
    "orig_nbformat": 4,
    "colab": {
      "provenance": []
    }
  },
  "nbformat": 4,
  "nbformat_minor": 0
}